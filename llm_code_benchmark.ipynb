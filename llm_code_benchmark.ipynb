{
 "cells": [
  {
   "cell_type": "markdown",
   "metadata": {},
   "source": [
    "# Setup\n"
   ]
  },
  {
   "cell_type": "code",
   "execution_count": 1,
   "metadata": {},
   "outputs": [],
   "source": [
    "import numba\n",
    "import numpy as np"
   ]
  },
  {
   "cell_type": "markdown",
   "metadata": {},
   "source": [
    "Create a small array of random number such that it can be used to test the algorithms to make sure they work.\n"
   ]
  },
  {
   "cell_type": "code",
   "execution_count": 4,
   "metadata": {},
   "outputs": [
    {
     "data": {
      "text/plain": [
       "array([15796,   861, 76821, 54887,  6266, 82387, 37195, 87499, 44132,\n",
       "       60264], dtype=int32)"
      ]
     },
     "execution_count": 4,
     "metadata": {},
     "output_type": "execute_result"
    }
   ],
   "source": [
    "np.random.seed(42)\n",
    "test_array = np.random.randint(1, 100_000, 100, dtype=np.int32)\n",
    "test_array[0:10]"
   ]
  },
  {
   "cell_type": "markdown",
   "metadata": {},
   "source": [
    "# Casual Use\n"
   ]
  },
  {
   "cell_type": "markdown",
   "metadata": {},
   "source": [
    "## Implementation #1\n",
    "\n",
    "Edited slightly so it can take in an optional parameter.\n"
   ]
  },
  {
   "cell_type": "code",
   "execution_count": 8,
   "metadata": {},
   "outputs": [],
   "source": [
    "import random\n",
    "\n",
    "\n",
    "def digit_sum(n):\n",
    "    \"\"\"Calculate the sum of digits of a number\"\"\"\n",
    "    return sum(int(digit) for digit in str(n))\n",
    "\n",
    "\n",
    "def find_difference(numbers=None):\n",
    "    if not numbers:\n",
    "        # Generate list of 1 million random integers\n",
    "        numbers = [random.randint(1, 100000) for _ in range(1000000)]\n",
    "\n",
    "    # Initialize variables for min and max numbers with digit sum 30\n",
    "    min_num = float(\"inf\")  # Initialize to positive infinity\n",
    "    max_num = float(\"-inf\")  # Initialize to negative infinity\n",
    "\n",
    "    # Find numbers whose digits sum to 30\n",
    "    for num in numbers:\n",
    "        if digit_sum(num) == 30:\n",
    "            min_num = min(min_num, num)\n",
    "            max_num = max(max_num, num)\n",
    "\n",
    "    # Check if we found any numbers with digit sum 30\n",
    "    if min_num == float(\"inf\") or max_num == float(\"-inf\"):\n",
    "        return \"No numbers found with digit sum of 30\"\n",
    "\n",
    "    return max_num - min_num\n",
    "\n",
    "\n",
    "def casual_implementation_1(numbers=None):\n",
    "    return find_difference(numbers)"
   ]
  },
  {
   "cell_type": "code",
   "execution_count": 9,
   "metadata": {},
   "outputs": [
    {
     "data": {
      "text/plain": [
       "62910"
      ]
     },
     "execution_count": 9,
     "metadata": {},
     "output_type": "execute_result"
    }
   ],
   "source": [
    "find_difference(test_array.tolist())"
   ]
  },
  {
   "cell_type": "markdown",
   "metadata": {},
   "source": [
    "Benchmark the code: due to slowness, only do 10 trials for this implementation.\n"
   ]
  },
  {
   "cell_type": "code",
   "execution_count": 12,
   "metadata": {},
   "outputs": [
    {
     "name": "stdout",
     "output_type": "stream",
     "text": [
      "629 ms ± 3.73 ms per loop (mean ± std. dev. of 10 runs, 1 loop each)\n"
     ]
    }
   ],
   "source": [
    "%%timeit -n 1 -r 10\n",
    "\n",
    "find_difference()"
   ]
  },
  {
   "cell_type": "markdown",
   "metadata": {},
   "source": [
    "## Implementation #2\n"
   ]
  },
  {
   "cell_type": "code",
   "execution_count": null,
   "metadata": {},
   "outputs": [],
   "source": []
  }
 ],
 "metadata": {
  "kernelspec": {
   "display_name": ".venv",
   "language": "python",
   "name": "python3"
  },
  "language_info": {
   "codemirror_mode": {
    "name": "ipython",
    "version": 3
   },
   "file_extension": ".py",
   "mimetype": "text/x-python",
   "name": "python",
   "nbconvert_exporter": "python",
   "pygments_lexer": "ipython3",
   "version": "3.12.8"
  }
 },
 "nbformat": 4,
 "nbformat_minor": 2
}
