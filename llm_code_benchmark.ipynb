{
 "cells": [
  {
   "cell_type": "markdown",
   "metadata": {},
   "source": [
    "# Setup\n"
   ]
  },
  {
   "cell_type": "code",
   "execution_count": 2,
   "metadata": {},
   "outputs": [],
   "source": [
    "import numba\n",
    "import numpy as np"
   ]
  },
  {
   "cell_type": "markdown",
   "metadata": {},
   "source": [
    "Create a small array of random number such that it can be used to test the algorithms to make sure they work.\n"
   ]
  },
  {
   "cell_type": "code",
   "execution_count": 3,
   "metadata": {},
   "outputs": [
    {
     "data": {
      "text/plain": [
       "array([15796,   861, 76821, 54887,  6266, 82387, 37195, 87499, 44132,\n",
       "       60264], dtype=int32)"
      ]
     },
     "execution_count": 3,
     "metadata": {},
     "output_type": "execute_result"
    }
   ],
   "source": [
    "np.random.seed(42)\n",
    "test_array = np.random.randint(1, 100_000, 100, dtype=np.int32)\n",
    "test_array[0:10]"
   ]
  },
  {
   "cell_type": "markdown",
   "metadata": {},
   "source": [
    "# Casual Use\n"
   ]
  },
  {
   "cell_type": "markdown",
   "metadata": {},
   "source": [
    "## Implementation #1\n",
    "\n",
    "Implementation edited slightly to take in an optional input array parameter.\n"
   ]
  },
  {
   "cell_type": "code",
   "execution_count": 4,
   "metadata": {},
   "outputs": [],
   "source": [
    "import random\n",
    "\n",
    "\n",
    "def digit_sum(n):\n",
    "    \"\"\"Calculate the sum of digits of a number\"\"\"\n",
    "    return sum(int(digit) for digit in str(n))\n",
    "\n",
    "\n",
    "def find_difference(numbers=None):\n",
    "    if not numbers:\n",
    "        # Generate list of 1 million random integers\n",
    "        numbers = [random.randint(1, 100000) for _ in range(1000000)]\n",
    "\n",
    "    # Initialize variables for min and max numbers with digit sum 30\n",
    "    min_num = float(\"inf\")  # Initialize to positive infinity\n",
    "    max_num = float(\"-inf\")  # Initialize to negative infinity\n",
    "\n",
    "    # Find numbers whose digits sum to 30\n",
    "    for num in numbers:\n",
    "        if digit_sum(num) == 30:\n",
    "            min_num = min(min_num, num)\n",
    "            max_num = max(max_num, num)\n",
    "\n",
    "    # Check if we found any numbers with digit sum 30\n",
    "    if min_num == float(\"inf\") or max_num == float(\"-inf\"):\n",
    "        return \"No numbers found with digit sum of 30\"\n",
    "\n",
    "    return max_num - min_num\n",
    "\n",
    "\n",
    "def casual_implementation_1(numbers=None):\n",
    "    return find_difference(numbers)"
   ]
  },
  {
   "cell_type": "code",
   "execution_count": 5,
   "metadata": {},
   "outputs": [
    {
     "name": "stdout",
     "output_type": "stream",
     "text": [
      "CPU times: user 77 μs, sys: 0 ns, total: 77 μs\n",
      "Wall time: 78.7 μs\n"
     ]
    },
    {
     "data": {
      "text/plain": [
       "62910"
      ]
     },
     "execution_count": 5,
     "metadata": {},
     "output_type": "execute_result"
    }
   ],
   "source": [
    "%%time\n",
    "\n",
    "casual_implementation_1(test_array.tolist())"
   ]
  },
  {
   "cell_type": "markdown",
   "metadata": {},
   "source": [
    "Benchmark the code: due to slowness, only do 10 trials for this implementation.\n"
   ]
  },
  {
   "cell_type": "code",
   "execution_count": 6,
   "metadata": {},
   "outputs": [
    {
     "name": "stdout",
     "output_type": "stream",
     "text": [
      "657 ms ± 30.7 ms per loop (mean ± std. dev. of 10 runs, 1 loop each)\n"
     ]
    }
   ],
   "source": [
    "%%timeit -n 1 -r 10\n",
    "\n",
    "casual_implementation_1()"
   ]
  },
  {
   "cell_type": "markdown",
   "metadata": {},
   "source": [
    "## Implementation #2\n",
    "\n",
    "Implementation edited slightly to take in an optional input array parameter.\n",
    "\n",
    "For a fair benchmark, the `DigitSumFinder` is pre-instantiated.\n"
   ]
  },
  {
   "cell_type": "code",
   "execution_count": 7,
   "metadata": {},
   "outputs": [],
   "source": [
    "import random\n",
    "from array import array\n",
    "from typing import Tuple, Optional\n",
    "import time\n",
    "\n",
    "\n",
    "class DigitSumFinder:\n",
    "    def __init__(\n",
    "        self,\n",
    "        target_sum: int = 30,\n",
    "        range_start: int = 1,\n",
    "        range_end: int = 100_000,\n",
    "        count: int = 1_000_000,\n",
    "    ):\n",
    "        self.target_sum = target_sum\n",
    "        self.range_start = range_start\n",
    "        self.range_end = range_end\n",
    "        self.count = count\n",
    "\n",
    "        # Pre-calculate digit sums for all possible numbers\n",
    "        self.digit_sums = self._precompute_digit_sums()\n",
    "\n",
    "    def _precompute_digit_sums(self) -> array:\n",
    "        \"\"\"Precompute digit sums for all possible numbers in range.\"\"\"\n",
    "        digit_sums = array(\"B\", [0] * (self.range_end + 1))\n",
    "        for num in range(self.range_start, self.range_end + 1):\n",
    "            total = 0\n",
    "            n = num\n",
    "            while n:\n",
    "                total += n % 10\n",
    "                n //= 10\n",
    "            digit_sums[num] = total\n",
    "        return digit_sums\n",
    "\n",
    "    def find_difference(\n",
    "        self, input_numbers=None\n",
    "    ) -> Tuple[int, Optional[int], Optional[int]]:\n",
    "        \"\"\"\n",
    "        Find the difference between max and min numbers with target digit sum.\n",
    "        Returns: (difference, min_number, max_number)\n",
    "        \"\"\"\n",
    "        min_num = float(\"inf\")\n",
    "        max_num = float(\"-inf\")\n",
    "        count_found = 0\n",
    "\n",
    "        if input_numbers:\n",
    "            for num in input_numbers:\n",
    "                if self.digit_sums[num] == self.target_sum:\n",
    "                    count_found += 1\n",
    "                    if num < min_num:\n",
    "                        min_num = num\n",
    "                    if num > max_num:\n",
    "                        max_num = num\n",
    "\n",
    "        else:\n",
    "            # Generate and process random numbers\n",
    "            for _ in range(self.count):\n",
    "                num = random.randint(self.range_start, self.range_end)\n",
    "                if self.digit_sums[num] == self.target_sum:\n",
    "                    count_found += 1\n",
    "                    if num < min_num:\n",
    "                        min_num = num\n",
    "                    if num > max_num:\n",
    "                        max_num = num\n",
    "\n",
    "        if count_found == 0:\n",
    "            return 0, None, None\n",
    "\n",
    "        return max_num - min_num, min_num, max_num\n",
    "\n",
    "\n",
    "def casual_implementation_2(dsf, numbers=None):\n",
    "    return dsf.find_difference(numbers)\n",
    "\n",
    "\n",
    "dsf = DigitSumFinder()"
   ]
  },
  {
   "cell_type": "code",
   "execution_count": 8,
   "metadata": {},
   "outputs": [
    {
     "name": "stdout",
     "output_type": "stream",
     "text": [
      "CPU times: user 23 μs, sys: 0 ns, total: 23 μs\n",
      "Wall time: 25 μs\n"
     ]
    },
    {
     "data": {
      "text/plain": [
       "(62910, 23898, 86808)"
      ]
     },
     "execution_count": 8,
     "metadata": {},
     "output_type": "execute_result"
    }
   ],
   "source": [
    "%%time\n",
    "\n",
    "casual_implementation_2(dsf, test_array.tolist())"
   ]
  },
  {
   "cell_type": "code",
   "execution_count": 9,
   "metadata": {},
   "outputs": [
    {
     "name": "stdout",
     "output_type": "stream",
     "text": [
      "244 ms ± 6.9 ms per loop (mean ± std. dev. of 10 runs, 1 loop each)\n"
     ]
    }
   ],
   "source": [
    "%%timeit -n 1 -r 10\n",
    "\n",
    "casual_implementation_2(dsf)"
   ]
  },
  {
   "cell_type": "markdown",
   "metadata": {},
   "source": [
    "## Implementation #3\n",
    "\n",
    "Test skipped since this implementation is convoluted.\n",
    "\n",
    "Because the script uses `ProcessPoolExecutor`, the code [cannot be included in a notebook](https://stackoverflow.com/questions/15900366/all-example-concurrent-futures-code-is-failing-with-brokenprocesspool) and must be benchmarked remotely. Therefore, the script logic is included in `scripts/casual_implementation_3.py` with edits.\n",
    "\n",
    "The average performance is **130 ms**.\n"
   ]
  },
  {
   "cell_type": "markdown",
   "metadata": {},
   "source": [
    "## Implementation #4\n",
    "\n",
    "Test skipped since this implementation is convoluted.\n",
    "\n",
    "Because the script uses `ProcessPoolExecutor`, the code [cannot be included in a notebook](https://stackoverflow.com/questions/15900366/all-example-concurrent-futures-code-is-failing-with-brokenprocesspool) and must be benchmarked remotely. Therefore, the script logic is included in `scripts/casual_implementation_4.py` with edits.\n",
    "\n",
    "The average performance is **160 ms**.\n"
   ]
  },
  {
   "cell_type": "markdown",
   "metadata": {},
   "source": [
    "## Implementation #5\n",
    "\n",
    "Removes some needless/unused Promethous logging code.\n"
   ]
  },
  {
   "cell_type": "code",
   "execution_count": 20,
   "metadata": {},
   "outputs": [],
   "source": [
    "from __future__ import annotations\n",
    "\n",
    "import asyncio\n",
    "import logging\n",
    "import multiprocessing as mp\n",
    "import os\n",
    "import signal\n",
    "import sys\n",
    "from concurrent.futures import ProcessPoolExecutor\n",
    "from dataclasses import dataclass, field\n",
    "from functools import partial, wraps\n",
    "from pathlib import Path\n",
    "from typing import (\n",
    "    Any,\n",
    "    AsyncIterator,\n",
    "    Callable,\n",
    "    Final,\n",
    "    Optional,\n",
    "    Protocol,\n",
    "    TypeAlias,\n",
    "    TypeVar,\n",
    "    cast,\n",
    ")\n",
    "\n",
    "import numpy as np\n",
    "import numpy.typing as npt\n",
    "import orjson\n",
    "import psutil\n",
    "from numba import jit, prange\n",
    "from rich.console import Console\n",
    "from rich.progress import Progress, TaskID\n",
    "from rich.table import Table\n",
    "\n",
    "# Type definitions\n",
    "T = TypeVar(\"T\")\n",
    "Number: TypeAlias = int | float\n",
    "ArrayInt: TypeAlias = npt.NDArray[np.int_]\n",
    "ArrayBool: TypeAlias = npt.NDArray[np.bool_]\n",
    "\n",
    "# Constants\n",
    "METRICS_PORT: Final[int] = 8000\n",
    "DEFAULT_CHUNK_SIZE: Final[int] = 100_000\n",
    "MAX_MEMORY_USAGE: Final[float] = 0.75  # 75% of available memory\n",
    "\n",
    "\n",
    "@dataclass(frozen=True, slots=True)\n",
    "class Config:\n",
    "    \"\"\"Application configuration.\"\"\"\n",
    "\n",
    "    min_value: int\n",
    "    max_value: int\n",
    "    sample_size: int\n",
    "    target_sum: int\n",
    "    chunk_size: int = field(default=DEFAULT_CHUNK_SIZE)\n",
    "    num_processes: int = field(default=mp.cpu_count())\n",
    "    log_level: str = field(default=\"INFO\")\n",
    "    metrics_enabled: bool = field(default=True)\n",
    "\n",
    "    def __post_init__(self) -> None:\n",
    "        self._validate()\n",
    "\n",
    "    def _validate(self) -> None:\n",
    "        \"\"\"Validate configuration parameters.\"\"\"\n",
    "        if self.min_value >= self.max_value:\n",
    "            raise ValueError(\"min_value must be less than max_value\")\n",
    "        if self.sample_size <= 0:\n",
    "            raise ValueError(\"sample_size must be positive\")\n",
    "        if self.chunk_size <= 0:\n",
    "            raise ValueError(\"chunk_size must be positive\")\n",
    "        if self.num_processes <= 0:\n",
    "            raise ValueError(\"num_processes must be positive\")\n",
    "\n",
    "\n",
    "@dataclass(frozen=True, slots=True)\n",
    "class Result:\n",
    "    \"\"\"Analysis result.\"\"\"\n",
    "\n",
    "    min_number: Optional[int]\n",
    "    max_number: Optional[int]\n",
    "    count: int\n",
    "    execution_time: float\n",
    "\n",
    "    @property\n",
    "    def difference(self) -> Optional[int]:\n",
    "        if self.min_number is None or self.max_number is None:\n",
    "            return None\n",
    "        return self.max_number - self.min_number\n",
    "\n",
    "    def to_json(self) -> str:\n",
    "        return orjson.dumps(self.__dict__).decode(\"utf-8\")\n",
    "\n",
    "\n",
    "class MemoryManager:\n",
    "    \"\"\"Memory management utilities.\"\"\"\n",
    "\n",
    "    @staticmethod\n",
    "    def get_memory_usage() -> float:\n",
    "        \"\"\"Get current memory usage.\"\"\"\n",
    "        return psutil.Process().memory_info().rss\n",
    "\n",
    "    @staticmethod\n",
    "    def check_memory_availability(required_bytes: int) -> bool:\n",
    "        \"\"\"Check if enough memory is available.\"\"\"\n",
    "        available = psutil.virtual_memory().available\n",
    "        return required_bytes <= available * MAX_MEMORY_USAGE\n",
    "\n",
    "    @staticmethod\n",
    "    def optimal_chunk_size(total_size: int, dtype_size: int) -> int:\n",
    "        \"\"\"Calculate optimal chunk size based on available memory.\"\"\"\n",
    "        available = psutil.virtual_memory().available * MAX_MEMORY_USAGE\n",
    "        return min(total_size, int(available / dtype_size))\n",
    "\n",
    "\n",
    "class SignalHandler:\n",
    "    \"\"\"Handle system signals gracefully.\"\"\"\n",
    "\n",
    "    def __init__(self) -> None:\n",
    "        self.shutdown_flag = False\n",
    "        signal.signal(signal.SIGINT, self._handle_shutdown)\n",
    "        signal.signal(signal.SIGTERM, self._handle_shutdown)\n",
    "\n",
    "    def _handle_shutdown(self, signum: int, frame: Any) -> None:\n",
    "        self.shutdown_flag = True\n",
    "        logging.warning(\"Shutdown signal received. Cleaning up...\")\n",
    "\n",
    "\n",
    "@jit(nopython=True, parallel=True)\n",
    "def calculate_digit_sums(numbers: ArrayInt) -> ArrayInt:\n",
    "    \"\"\"Calculate digit sums using Numba.\"\"\"\n",
    "    result = np.zeros_like(numbers)\n",
    "    for i in prange(len(numbers)):\n",
    "        num = numbers[i]\n",
    "        total = 0\n",
    "        while num:\n",
    "            total += num % 10\n",
    "            num //= 10\n",
    "        result[i] = total\n",
    "    return result\n",
    "\n",
    "\n",
    "class NumberAnalyzer:\n",
    "    \"\"\"Main number analysis class.\"\"\"\n",
    "\n",
    "    def __init__(self, config: Config):\n",
    "        self.config = config\n",
    "        # self.logger = self._setup_logger()\n",
    "        self.console = Console()\n",
    "        # self.signal_handler = SignalHandler()\n",
    "        # self._setup_metrics() if config.metrics_enabled else None\n",
    "\n",
    "    async def _process_chunk(\n",
    "        self,\n",
    "        chunk_size: int,\n",
    "    ) -> tuple[Optional[int], Optional[int], int]:\n",
    "        \"\"\"Process a chunk of numbers asynchronously.\"\"\"\n",
    "        numbers = np.random.randint(\n",
    "            self.config.min_value, self.config.max_value + 1, chunk_size, dtype=np.int32\n",
    "        )\n",
    "\n",
    "        digit_sums = calculate_digit_sums(numbers)\n",
    "        mask = digit_sums == self.config.target_sum\n",
    "        matching_numbers = numbers[mask]\n",
    "\n",
    "        if len(matching_numbers) == 0:\n",
    "            return None, None, 0\n",
    "\n",
    "        # progress.update(task_id, advance=chunk_size)\n",
    "\n",
    "        return matching_numbers.min(), matching_numbers.max(), len(matching_numbers)\n",
    "\n",
    "    async def _process_chunks(self) -> Result:\n",
    "        \"\"\"Process all chunks of numbers.\"\"\"\n",
    "        start_time = asyncio.get_event_loop().time()\n",
    "        chunk_size = MemoryManager.optimal_chunk_size(\n",
    "            self.config.sample_size, np.dtype(np.int32).itemsize\n",
    "        )\n",
    "\n",
    "        min_number = float(\"inf\")\n",
    "        max_number = float(\"-inf\")\n",
    "        total_count = 0\n",
    "\n",
    "        chunks = [\n",
    "            self._process_chunk(chunk_size)\n",
    "            for _ in range(0, self.config.sample_size, chunk_size)\n",
    "        ]\n",
    "\n",
    "        results = await asyncio.gather(*chunks)\n",
    "\n",
    "        for chunk_min, chunk_max, count in results:\n",
    "            if chunk_min is not None:\n",
    "                min_number = min(min_number, chunk_min)\n",
    "                max_number = max(max_number, chunk_max)\n",
    "                total_count += count\n",
    "\n",
    "            # if self.signal_handler.shutdown_flag:\n",
    "            #     break\n",
    "\n",
    "        execution_time = asyncio.get_event_loop().time() - start_time\n",
    "\n",
    "        if total_count == 0:\n",
    "            return Result(None, None, 0, execution_time)\n",
    "\n",
    "        return Result(min_number, max_number, total_count, execution_time)\n",
    "\n",
    "    async def analyze(self) -> Result:\n",
    "        \"\"\"Perform the number analysis.\"\"\"\n",
    "        try:\n",
    "            # self.logger.info(\"starting_analysis\", config=self.config.__dict__)\n",
    "            result = await self._process_chunks()\n",
    "            # self.logger.info(\"analysis_complete\", result=result.__dict__)\n",
    "            return result\n",
    "        except Exception as e:\n",
    "            # self.logger.error(\"analysis_failed\", error=str(e))\n",
    "            raise\n",
    "\n",
    "    def display_results(self, result: Result) -> None:\n",
    "        \"\"\"Display results in a rich table format.\"\"\"\n",
    "        table = Table(title=\"Analysis Results\")\n",
    "        table.add_column(\"Metric\", style=\"cyan\")\n",
    "        table.add_column(\"Value\", style=\"magenta\")\n",
    "\n",
    "        if result.min_number is not None:\n",
    "            table.add_row(\"Minimum Number\", f\"{result.min_number:,}\")\n",
    "            table.add_row(\"Maximum Number\", f\"{result.max_number:,}\")\n",
    "            table.add_row(\"Difference\", f\"{result.difference:,}\")\n",
    "        else:\n",
    "            table.add_row(\"Result\", \"No numbers found\")\n",
    "\n",
    "        table.add_row(\"Numbers Found\", f\"{result.count:,}\")\n",
    "        table.add_row(\"Execution Time\", f\"{result.execution_time*1000:.4f}ms\")\n",
    "\n",
    "        self.console.print(table)\n",
    "\n",
    "\n",
    "async def main() -> None:\n",
    "    \"\"\"Main execution function.\"\"\"\n",
    "    try:\n",
    "        config = Config(\n",
    "            min_value=1, max_value=100_000, sample_size=1_000_000, target_sum=30\n",
    "        )\n",
    "\n",
    "        analyzer = NumberAnalyzer(config)\n",
    "        result = await analyzer.analyze()\n",
    "        analyzer.display_results(result)\n",
    "\n",
    "        # Save results\n",
    "        output_path = Path(\"results.json\")\n",
    "        output_path.write_text(result.to_json())\n",
    "\n",
    "    except Exception as e:\n",
    "        logging.error(f\"Fatal error: {e}\", exc_info=True)\n",
    "        sys.exit(1)\n",
    "\n",
    "\n",
    "config = Config(min_value=1, max_value=100_000, sample_size=1_000_000, target_sum=30)\n",
    "na = NumberAnalyzer(config)"
   ]
  },
  {
   "cell_type": "code",
   "execution_count": 29,
   "metadata": {},
   "outputs": [
    {
     "data": {
      "text/html": [
       "<pre style=\"white-space:pre;overflow-x:auto;line-height:normal;font-family:Menlo,'DejaVu Sans Mono',consolas,'Courier New',monospace\"><span style=\"font-style: italic\">       Analysis Results       </span>\n",
       "┏━━━━━━━━━━━━━━━━┳━━━━━━━━━━━┓\n",
       "┃<span style=\"font-weight: bold\"> Metric         </span>┃<span style=\"font-weight: bold\"> Value     </span>┃\n",
       "┡━━━━━━━━━━━━━━━━╇━━━━━━━━━━━┩\n",
       "│<span style=\"color: #008080; text-decoration-color: #008080\"> Minimum Number </span>│<span style=\"color: #800080; text-decoration-color: #800080\"> 3,999     </span>│\n",
       "│<span style=\"color: #008080; text-decoration-color: #008080\"> Maximum Number </span>│<span style=\"color: #800080; text-decoration-color: #800080\"> 99,930    </span>│\n",
       "│<span style=\"color: #008080; text-decoration-color: #008080\"> Difference     </span>│<span style=\"color: #800080; text-decoration-color: #800080\"> 95,931    </span>│\n",
       "│<span style=\"color: #008080; text-decoration-color: #008080\"> Numbers Found  </span>│<span style=\"color: #800080; text-decoration-color: #800080\"> 32,345    </span>│\n",
       "│<span style=\"color: #008080; text-decoration-color: #008080\"> Execution Time </span>│<span style=\"color: #800080; text-decoration-color: #800080\"> 12.1217ms </span>│\n",
       "└────────────────┴───────────┘\n",
       "</pre>\n"
      ],
      "text/plain": [
       "\u001b[3m       Analysis Results       \u001b[0m\n",
       "┏━━━━━━━━━━━━━━━━┳━━━━━━━━━━━┓\n",
       "┃\u001b[1m \u001b[0m\u001b[1mMetric        \u001b[0m\u001b[1m \u001b[0m┃\u001b[1m \u001b[0m\u001b[1mValue    \u001b[0m\u001b[1m \u001b[0m┃\n",
       "┡━━━━━━━━━━━━━━━━╇━━━━━━━━━━━┩\n",
       "│\u001b[36m \u001b[0m\u001b[36mMinimum Number\u001b[0m\u001b[36m \u001b[0m│\u001b[35m \u001b[0m\u001b[35m3,999    \u001b[0m\u001b[35m \u001b[0m│\n",
       "│\u001b[36m \u001b[0m\u001b[36mMaximum Number\u001b[0m\u001b[36m \u001b[0m│\u001b[35m \u001b[0m\u001b[35m99,930   \u001b[0m\u001b[35m \u001b[0m│\n",
       "│\u001b[36m \u001b[0m\u001b[36mDifference    \u001b[0m\u001b[36m \u001b[0m│\u001b[35m \u001b[0m\u001b[35m95,931   \u001b[0m\u001b[35m \u001b[0m│\n",
       "│\u001b[36m \u001b[0m\u001b[36mNumbers Found \u001b[0m\u001b[36m \u001b[0m│\u001b[35m \u001b[0m\u001b[35m32,345   \u001b[0m\u001b[35m \u001b[0m│\n",
       "│\u001b[36m \u001b[0m\u001b[36mExecution Time\u001b[0m\u001b[36m \u001b[0m│\u001b[35m \u001b[0m\u001b[35m12.1217ms\u001b[0m\u001b[35m \u001b[0m│\n",
       "└────────────────┴───────────┘\n"
      ]
     },
     "metadata": {},
     "output_type": "display_data"
    }
   ],
   "source": [
    "result = await na.analyze()\n",
    "na.display_results(result)"
   ]
  },
  {
   "cell_type": "markdown",
   "metadata": {},
   "source": [
    "Calculate the execution times in a loop, then average.\n"
   ]
  },
  {
   "cell_type": "code",
   "execution_count": 47,
   "metadata": {},
   "outputs": [
    {
     "name": "stdout",
     "output_type": "stream",
     "text": [
      "6.59027477609925\n"
     ]
    },
    {
     "data": {
      "text/html": [
       "<pre style=\"white-space:pre;overflow-x:auto;line-height:normal;font-family:Menlo,'DejaVu Sans Mono',consolas,'Courier New',monospace\"><span style=\"font-style: italic\">      Analysis Results       </span>\n",
       "┏━━━━━━━━━━━━━━━━┳━━━━━━━━━━┓\n",
       "┃<span style=\"font-weight: bold\"> Metric         </span>┃<span style=\"font-weight: bold\"> Value    </span>┃\n",
       "┡━━━━━━━━━━━━━━━━╇━━━━━━━━━━┩\n",
       "│<span style=\"color: #008080; text-decoration-color: #008080\"> Minimum Number </span>│<span style=\"color: #800080; text-decoration-color: #800080\"> 3,999    </span>│\n",
       "│<span style=\"color: #008080; text-decoration-color: #008080\"> Maximum Number </span>│<span style=\"color: #800080; text-decoration-color: #800080\"> 99,930   </span>│\n",
       "│<span style=\"color: #008080; text-decoration-color: #008080\"> Difference     </span>│<span style=\"color: #800080; text-decoration-color: #800080\"> 95,931   </span>│\n",
       "│<span style=\"color: #008080; text-decoration-color: #008080\"> Numbers Found  </span>│<span style=\"color: #800080; text-decoration-color: #800080\"> 32,745   </span>│\n",
       "│<span style=\"color: #008080; text-decoration-color: #008080\"> Execution Time </span>│<span style=\"color: #800080; text-decoration-color: #800080\"> 5.9478ms </span>│\n",
       "└────────────────┴──────────┘\n",
       "</pre>\n"
      ],
      "text/plain": [
       "\u001b[3m      Analysis Results       \u001b[0m\n",
       "┏━━━━━━━━━━━━━━━━┳━━━━━━━━━━┓\n",
       "┃\u001b[1m \u001b[0m\u001b[1mMetric        \u001b[0m\u001b[1m \u001b[0m┃\u001b[1m \u001b[0m\u001b[1mValue   \u001b[0m\u001b[1m \u001b[0m┃\n",
       "┡━━━━━━━━━━━━━━━━╇━━━━━━━━━━┩\n",
       "│\u001b[36m \u001b[0m\u001b[36mMinimum Number\u001b[0m\u001b[36m \u001b[0m│\u001b[35m \u001b[0m\u001b[35m3,999   \u001b[0m\u001b[35m \u001b[0m│\n",
       "│\u001b[36m \u001b[0m\u001b[36mMaximum Number\u001b[0m\u001b[36m \u001b[0m│\u001b[35m \u001b[0m\u001b[35m99,930  \u001b[0m\u001b[35m \u001b[0m│\n",
       "│\u001b[36m \u001b[0m\u001b[36mDifference    \u001b[0m\u001b[36m \u001b[0m│\u001b[35m \u001b[0m\u001b[35m95,931  \u001b[0m\u001b[35m \u001b[0m│\n",
       "│\u001b[36m \u001b[0m\u001b[36mNumbers Found \u001b[0m\u001b[36m \u001b[0m│\u001b[35m \u001b[0m\u001b[35m32,745  \u001b[0m\u001b[35m \u001b[0m│\n",
       "│\u001b[36m \u001b[0m\u001b[36mExecution Time\u001b[0m\u001b[36m \u001b[0m│\u001b[35m \u001b[0m\u001b[35m5.9478ms\u001b[0m\u001b[35m \u001b[0m│\n",
       "└────────────────┴──────────┘\n"
      ]
     },
     "metadata": {},
     "output_type": "display_data"
    }
   ],
   "source": [
    "results = []\n",
    "for _ in range(1000):\n",
    "    int_result = await na.analyze()\n",
    "    results.append(int_result.execution_time)\n",
    "\n",
    "print(np.array(results).mean() * 1000)\n",
    "na.display_results(int_result)"
   ]
  },
  {
   "cell_type": "markdown",
   "metadata": {},
   "source": [
    "# Prompt Engineered\n"
   ]
  },
  {
   "cell_type": "markdown",
   "metadata": {},
   "source": [
    "## Implementation #1\n"
   ]
  },
  {
   "cell_type": "code",
   "execution_count": 48,
   "metadata": {},
   "outputs": [],
   "source": [
    "from numba import jit\n",
    "\n",
    "\n",
    "@jit(nopython=True)\n",
    "def pe_1_digit_sum(n):\n",
    "    total = 0\n",
    "    while n:\n",
    "        total += n % 10\n",
    "        n //= 10\n",
    "    return total\n",
    "\n",
    "\n",
    "@jit(nopython=True)\n",
    "def pe_1_find_difference(numbers):\n",
    "    min_num = float(\"inf\")\n",
    "    max_num = float(\"-inf\")\n",
    "\n",
    "    for num in numbers:\n",
    "        sum_digits = pe_1_digit_sum(num)\n",
    "        if sum_digits == 30:\n",
    "            min_num = min(min_num, num)\n",
    "            max_num = max(max_num, num)\n",
    "\n",
    "    return max_num - min_num if max_num != float(\"-inf\") else 0"
   ]
  },
  {
   "cell_type": "code",
   "execution_count": 49,
   "metadata": {},
   "outputs": [
    {
     "data": {
      "text/plain": [
       "62910.0"
      ]
     },
     "execution_count": 49,
     "metadata": {},
     "output_type": "execute_result"
    }
   ],
   "source": [
    "pe_1_find_difference(test_array)"
   ]
  },
  {
   "cell_type": "code",
   "execution_count": 50,
   "metadata": {},
   "outputs": [
    {
     "name": "stdout",
     "output_type": "stream",
     "text": [
      "11.2 ms ± 456 μs per loop (mean ± std. dev. of 100 runs, 1 loop each)\n"
     ]
    }
   ],
   "source": [
    "%%timeit -n 1 -r 100\n",
    "\n",
    "input_numbers = np.random.randint(1, 100_000, 1_000_000, dtype=np.int32)\n",
    "pe_1_find_difference(input_numbers)"
   ]
  },
  {
   "cell_type": "markdown",
   "metadata": {},
   "source": [
    "## Implementation #2\n",
    "\n",
    "The use of bit-shifting here leads to incorrect results, but benchmark performed for posterity.\n",
    "\n",
    "Because the script uses `multiprocessing`, the code [cannot be included in a notebook](https://stackoverflow.com/questions/15900366/all-example-concurrent-futures-code-is-failing-with-brokenprocesspool) and must be benchmarked remotely. Therefore, the script logic is included in `scripts/prompt_engineered_2.py` with edits.\n",
    "\n",
    "Average runtime is **72ms**.\n"
   ]
  },
  {
   "cell_type": "markdown",
   "metadata": {},
   "source": [
    "## Implementation #3\n",
    "\n",
    "The use of bit-shifting here leads to incorrect results, but benchmark performed for posterity.\n",
    "\n",
    "`prange` does not support both `parallel` and a `step_size > 1`, so `parallel = False`.\n"
   ]
  },
  {
   "cell_type": "code",
   "execution_count": 84,
   "metadata": {},
   "outputs": [],
   "source": [
    "import numpy as np\n",
    "from numba import jit, uint32, uint8, prange\n",
    "import os\n",
    "\n",
    "# Pre-computed lookup table using bit manipulation\n",
    "LOOKUP = np.zeros(100001, dtype=np.uint8)\n",
    "for i in range(100001):\n",
    "    # Optimized digit sum using parallel bit counting\n",
    "    n = i\n",
    "    n = (\n",
    "        (n & 0x0F)\n",
    "        + ((n >> 4) & 0x0F)\n",
    "        + ((n >> 8) & 0x0F)\n",
    "        + ((n >> 12) & 0x0F)\n",
    "        + ((n >> 16) & 0x0F)\n",
    "    )\n",
    "    LOOKUP[i] = n\n",
    "\n",
    "\n",
    "@jit(nopython=True, parallel=False, cache=True, fastmath=True)\n",
    "def pe_3_find_min_max(numbers):\n",
    "    # Process 32 numbers at once using SIMD\n",
    "    min_val = np.iinfo(np.uint32).max\n",
    "    max_val = 0\n",
    "\n",
    "    # Vectorized processing with explicit SIMD hints\n",
    "    for i in prange(0, len(numbers), 32):\n",
    "        # Load 32 elements into SIMD registers\n",
    "        chunk = numbers[i : min(i + 32, len(numbers))]\n",
    "\n",
    "        # Vectorized lookup and comparison\n",
    "        sums = LOOKUP[chunk]\n",
    "        mask = sums == 30\n",
    "\n",
    "        if np.any(mask):\n",
    "            valid_nums = chunk[mask]\n",
    "            min_val = min(min_val, np.min(valid_nums))\n",
    "            max_val = max(max_val, np.max(valid_nums))\n",
    "\n",
    "    return min_val, max_val\n",
    "\n",
    "\n",
    "def pe_3():\n",
    "    # Optimize CPU affinity and thread count\n",
    "    # physical_cores = len(os.sched_getaffinity(0))\n",
    "    os.environ[\"NUMBA_NUM_THREADS\"] = str(os.cpu_count())\n",
    "\n",
    "    # Generate aligned array for SIMD\n",
    "    numbers = np.random.randint(1, 100001, size=1_000_000, dtype=np.uint32)\n",
    "    numbers = np.ascontiguousarray(numbers)\n",
    "\n",
    "    # Single pass computation\n",
    "    min_val, max_val = pe_3_find_min_max(numbers)\n",
    "\n",
    "    return max_val - min_val if max_val > 0 else 0"
   ]
  },
  {
   "cell_type": "code",
   "execution_count": 85,
   "metadata": {},
   "outputs": [
    {
     "data": {
      "text/plain": [
       "(11535, 99300)"
      ]
     },
     "execution_count": 85,
     "metadata": {},
     "output_type": "execute_result"
    }
   ],
   "source": [
    "find_min_max(test_array)"
   ]
  },
  {
   "cell_type": "code",
   "execution_count": 87,
   "metadata": {},
   "outputs": [
    {
     "name": "stdout",
     "output_type": "stream",
     "text": [
      "10.1 ms ± 648 μs per loop (mean ± std. dev. of 1000 runs, 1 loop each)\n"
     ]
    }
   ],
   "source": [
    "%%timeit -n 1 -r 1000\n",
    "\n",
    "pe_3()"
   ]
  },
  {
   "cell_type": "markdown",
   "metadata": {},
   "source": [
    "## Implementation #4\n",
    "\n",
    "The use of bit-shifting here leads to incorrect results, but benchmark performed for posterity.\n"
   ]
  },
  {
   "cell_type": "code",
   "execution_count": 90,
   "metadata": {},
   "outputs": [],
   "source": [
    "import time\n",
    "\n",
    "import numpy as np\n",
    "from numba import jit\n",
    "\n",
    "\n",
    "# Generate hash table at module load time using bit manipulation\n",
    "@jit(nopython=True, cache=True)\n",
    "def init_hash_table():\n",
    "    HASH_TABLE = np.zeros(100001, dtype=np.uint8)\n",
    "    min_val = np.iinfo(np.uint32).max\n",
    "    max_val = 0\n",
    "\n",
    "    # Optimal digit sum using parallel bit counting\n",
    "    for i in range(1, 100001):\n",
    "        n = i\n",
    "        sum = 0\n",
    "        while n and sum <= 30:\n",
    "            sum += n & 0xF\n",
    "            n >>= 4\n",
    "        if sum == 30:\n",
    "            HASH_TABLE[i] = 1\n",
    "            min_val = min(min_val, i)\n",
    "            max_val = max(max_val, i)\n",
    "\n",
    "    return min_val, max_val, HASH_TABLE\n",
    "\n",
    "\n",
    "@jit(nopython=True, parallel=False, cache=True, fastmath=True)\n",
    "def pe_4_find_min_max(numbers):\n",
    "    MIN_VALID, MAX_VALID, HASH_TABLE = init_hash_table()\n",
    "    min_val = MAX_VALID  # Start with known bounds\n",
    "    max_val = MIN_VALID\n",
    "    found = False\n",
    "\n",
    "    # Single vectorized operation\n",
    "    mask = HASH_TABLE[numbers] == 1\n",
    "    if np.any(mask):\n",
    "        valid_nums = numbers[mask]\n",
    "        min_val = np.min(valid_nums)\n",
    "        max_val = np.max(valid_nums)\n",
    "        found = True\n",
    "\n",
    "    return min_val, max_val, found\n",
    "\n",
    "\n",
    "def pe_4():\n",
    "    # Generate numbers with optimal memory layout\n",
    "    numbers = np.random.randint(1, 100001, size=1_000_000, dtype=np.uint32)\n",
    "\n",
    "    # Single vectorized lookup\n",
    "    min_val, max_val, found = pe_4_find_min_max(numbers)\n",
    "\n",
    "    return max_val - min_val if found else 0"
   ]
  },
  {
   "cell_type": "code",
   "execution_count": 91,
   "metadata": {},
   "outputs": [
    {
     "data": {
      "text/plain": [
       "99735"
      ]
     },
     "execution_count": 91,
     "metadata": {},
     "output_type": "execute_result"
    }
   ],
   "source": [
    "pe_4()"
   ]
  },
  {
   "cell_type": "code",
   "execution_count": 92,
   "metadata": {},
   "outputs": [
    {
     "name": "stdout",
     "output_type": "stream",
     "text": [
      "6.59 ms ± 347 μs per loop (mean ± std. dev. of 1000 runs, 1 loop each)\n"
     ]
    }
   ],
   "source": [
    "%%timeit -n 1 -r 1000\n",
    "\n",
    "pe_4()"
   ]
  },
  {
   "cell_type": "markdown",
   "metadata": {},
   "source": [
    "## Implementation #5\n"
   ]
  },
  {
   "cell_type": "code",
   "execution_count": 93,
   "metadata": {},
   "outputs": [],
   "source": [
    "import numpy as np\n",
    "from numba import jit, uint32\n",
    "import os\n",
    "\n",
    "# Pre-computed perfect minimal hash table for numbers with decimal digit sum 30\n",
    "\n",
    "\n",
    "# Generate hash table at module load time with correct decimal digit sum\n",
    "@jit(nopython=True, cache=True)\n",
    "def pe_5_init_hash_table():\n",
    "    HASH_TABLE = np.zeros(100001, dtype=np.uint8)\n",
    "    min_val = np.iinfo(np.uint32).max\n",
    "    max_val = 0\n",
    "\n",
    "    # Correct decimal digit sum calculation\n",
    "    for i in range(1, 100001):\n",
    "        n = i\n",
    "        sum = 0\n",
    "        while n:\n",
    "            sum += n % 10  # Correct decimal digit extraction\n",
    "            n //= 10\n",
    "            if sum > 30:  # Early termination optimization\n",
    "                break\n",
    "        if sum == 30:\n",
    "            HASH_TABLE[i] = 1\n",
    "            min_val = min(min_val, i)\n",
    "            max_val = max(max_val, i)\n",
    "\n",
    "    return min_val, max_val, HASH_TABLE\n",
    "\n",
    "\n",
    "# Initialize at module load time\n",
    "\n",
    "\n",
    "@jit(nopython=True, parallel=False, cache=True, fastmath=True)\n",
    "def pe_5_find_min_max(numbers):\n",
    "    MIN_VALID, MAX_VALID, HASH_TABLE = pe_5_init_hash_table()\n",
    "    min_val = MAX_VALID\n",
    "    max_val = MIN_VALID\n",
    "    found = False\n",
    "\n",
    "    # Single vectorized operation\n",
    "    mask = HASH_TABLE[numbers] == 1\n",
    "    if np.any(mask):\n",
    "        valid_nums = numbers[mask]\n",
    "        min_val = np.min(valid_nums)\n",
    "        max_val = np.max(valid_nums)\n",
    "        found = True\n",
    "\n",
    "    return min_val, max_val, found\n",
    "\n",
    "\n",
    "def pe_5():\n",
    "    numbers = np.random.randint(1, 100001, size=1_000_000, dtype=np.uint32)\n",
    "\n",
    "    min_val, max_val, found = pe_5_find_min_max(numbers)\n",
    "\n",
    "    return max_val - min_val if found else 0"
   ]
  },
  {
   "cell_type": "code",
   "execution_count": 95,
   "metadata": {},
   "outputs": [
    {
     "name": "stdout",
     "output_type": "stream",
     "text": [
      "(23898, 86808, True)\n",
      "62910\n"
     ]
    }
   ],
   "source": [
    "find_results = pe_5_find_min_max(test_array)\n",
    "print(find_results)\n",
    "print(find_results[1] - find_results[0])"
   ]
  },
  {
   "cell_type": "markdown",
   "metadata": {},
   "source": [
    "Results appear to be more unstable so need lots more trials.\n"
   ]
  },
  {
   "cell_type": "code",
   "execution_count": 101,
   "metadata": {},
   "outputs": [
    {
     "name": "stdout",
     "output_type": "stream",
     "text": [
      "6.89 ms ± 505 μs per loop (mean ± std. dev. of 2000 runs, 1 loop each)\n"
     ]
    }
   ],
   "source": [
    "%%timeit -n 1 -r 2000\n",
    "\n",
    "pe_5()"
   ]
  },
  {
   "cell_type": "code",
   "execution_count": null,
   "metadata": {},
   "outputs": [],
   "source": []
  }
 ],
 "metadata": {
  "kernelspec": {
   "display_name": ".venv",
   "language": "python",
   "name": "python3"
  },
  "language_info": {
   "codemirror_mode": {
    "name": "ipython",
    "version": 3
   },
   "file_extension": ".py",
   "mimetype": "text/x-python",
   "name": "python",
   "nbconvert_exporter": "python",
   "pygments_lexer": "ipython3",
   "version": "3.12.8"
  }
 },
 "nbformat": 4,
 "nbformat_minor": 2
}
