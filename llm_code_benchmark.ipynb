{
 "cells": [
  {
   "cell_type": "markdown",
   "metadata": {},
   "source": [
    "# Setup\n"
   ]
  },
  {
   "cell_type": "code",
   "execution_count": 1,
   "metadata": {},
   "outputs": [],
   "source": [
    "import numba\n",
    "import numpy as np"
   ]
  },
  {
   "cell_type": "markdown",
   "metadata": {},
   "source": [
    "Create a small array of random number such that it can be used to test the algorithms to make sure they work.\n"
   ]
  },
  {
   "cell_type": "code",
   "execution_count": 4,
   "metadata": {},
   "outputs": [
    {
     "data": {
      "text/plain": [
       "array([15796,   861, 76821, 54887,  6266, 82387, 37195, 87499, 44132,\n",
       "       60264], dtype=int32)"
      ]
     },
     "execution_count": 4,
     "metadata": {},
     "output_type": "execute_result"
    }
   ],
   "source": [
    "np.random.seed(42)\n",
    "test_array = np.random.randint(1, 100_000, 100, dtype=np.int32)\n",
    "test_array[0:10]"
   ]
  },
  {
   "cell_type": "markdown",
   "metadata": {},
   "source": [
    "# Casual Use\n"
   ]
  },
  {
   "cell_type": "markdown",
   "metadata": {},
   "source": [
    "## Implementation #1\n",
    "\n",
    "Implementation edited slightly to take in an optional input array parameter.\n"
   ]
  },
  {
   "cell_type": "code",
   "execution_count": 8,
   "metadata": {},
   "outputs": [],
   "source": [
    "import random\n",
    "\n",
    "\n",
    "def digit_sum(n):\n",
    "    \"\"\"Calculate the sum of digits of a number\"\"\"\n",
    "    return sum(int(digit) for digit in str(n))\n",
    "\n",
    "\n",
    "def find_difference(numbers=None):\n",
    "    if not numbers:\n",
    "        # Generate list of 1 million random integers\n",
    "        numbers = [random.randint(1, 100000) for _ in range(1000000)]\n",
    "\n",
    "    # Initialize variables for min and max numbers with digit sum 30\n",
    "    min_num = float(\"inf\")  # Initialize to positive infinity\n",
    "    max_num = float(\"-inf\")  # Initialize to negative infinity\n",
    "\n",
    "    # Find numbers whose digits sum to 30\n",
    "    for num in numbers:\n",
    "        if digit_sum(num) == 30:\n",
    "            min_num = min(min_num, num)\n",
    "            max_num = max(max_num, num)\n",
    "\n",
    "    # Check if we found any numbers with digit sum 30\n",
    "    if min_num == float(\"inf\") or max_num == float(\"-inf\"):\n",
    "        return \"No numbers found with digit sum of 30\"\n",
    "\n",
    "    return max_num - min_num\n",
    "\n",
    "\n",
    "def casual_implementation_1(numbers=None):\n",
    "    return find_difference(numbers)"
   ]
  },
  {
   "cell_type": "code",
   "execution_count": 14,
   "metadata": {},
   "outputs": [
    {
     "name": "stdout",
     "output_type": "stream",
     "text": [
      "CPU times: user 138 μs, sys: 1 μs, total: 139 μs\n",
      "Wall time: 142 μs\n"
     ]
    },
    {
     "data": {
      "text/plain": [
       "62910"
      ]
     },
     "execution_count": 14,
     "metadata": {},
     "output_type": "execute_result"
    }
   ],
   "source": [
    "%%time\n",
    "\n",
    "casual_implementation_1(test_array.tolist())"
   ]
  },
  {
   "cell_type": "markdown",
   "metadata": {},
   "source": [
    "Benchmark the code: due to slowness, only do 10 trials for this implementation.\n"
   ]
  },
  {
   "cell_type": "code",
   "execution_count": 15,
   "metadata": {},
   "outputs": [
    {
     "name": "stdout",
     "output_type": "stream",
     "text": [
      "632 ms ± 16.8 ms per loop (mean ± std. dev. of 10 runs, 1 loop each)\n"
     ]
    }
   ],
   "source": [
    "%%timeit -n 1 -r 10\n",
    "\n",
    "casual_implementation_1()"
   ]
  },
  {
   "cell_type": "markdown",
   "metadata": {},
   "source": [
    "## Implementation #2\n",
    "\n",
    "Implementation edited slightly to take in an optional input array parameter.\n",
    "\n",
    "For a fair benchmark, the `DigitSumFinder` is pre-instantiated.\n"
   ]
  },
  {
   "cell_type": "code",
   "execution_count": 22,
   "metadata": {},
   "outputs": [],
   "source": [
    "import random\n",
    "from array import array\n",
    "from typing import Tuple, Optional\n",
    "import time\n",
    "\n",
    "\n",
    "class DigitSumFinder:\n",
    "    def __init__(\n",
    "        self,\n",
    "        target_sum: int = 30,\n",
    "        range_start: int = 1,\n",
    "        range_end: int = 100_000,\n",
    "        count: int = 1_000_000,\n",
    "    ):\n",
    "        self.target_sum = target_sum\n",
    "        self.range_start = range_start\n",
    "        self.range_end = range_end\n",
    "        self.count = count\n",
    "\n",
    "        # Pre-calculate digit sums for all possible numbers\n",
    "        self.digit_sums = self._precompute_digit_sums()\n",
    "\n",
    "    def _precompute_digit_sums(self) -> array:\n",
    "        \"\"\"Precompute digit sums for all possible numbers in range.\"\"\"\n",
    "        digit_sums = array(\"B\", [0] * (self.range_end + 1))\n",
    "        for num in range(self.range_start, self.range_end + 1):\n",
    "            total = 0\n",
    "            n = num\n",
    "            while n:\n",
    "                total += n % 10\n",
    "                n //= 10\n",
    "            digit_sums[num] = total\n",
    "        return digit_sums\n",
    "\n",
    "    def find_difference(\n",
    "        self, input_numbers=None\n",
    "    ) -> Tuple[int, Optional[int], Optional[int]]:\n",
    "        \"\"\"\n",
    "        Find the difference between max and min numbers with target digit sum.\n",
    "        Returns: (difference, min_number, max_number)\n",
    "        \"\"\"\n",
    "        min_num = float(\"inf\")\n",
    "        max_num = float(\"-inf\")\n",
    "        count_found = 0\n",
    "\n",
    "        if input_numbers:\n",
    "            for num in input_numbers:\n",
    "                if self.digit_sums[num] == self.target_sum:\n",
    "                    count_found += 1\n",
    "                    if num < min_num:\n",
    "                        min_num = num\n",
    "                    if num > max_num:\n",
    "                        max_num = num\n",
    "\n",
    "        else:\n",
    "            # Generate and process random numbers\n",
    "            for _ in range(self.count):\n",
    "                num = random.randint(self.range_start, self.range_end)\n",
    "                if self.digit_sums[num] == self.target_sum:\n",
    "                    count_found += 1\n",
    "                    if num < min_num:\n",
    "                        min_num = num\n",
    "                    if num > max_num:\n",
    "                        max_num = num\n",
    "\n",
    "        if count_found == 0:\n",
    "            return 0, None, None\n",
    "\n",
    "        return max_num - min_num, min_num, max_num\n",
    "\n",
    "\n",
    "def casual_implementation_2(d, numbers=None):\n",
    "    return d.find_difference(numbers)\n",
    "\n",
    "\n",
    "d = DigitSumFinder()"
   ]
  },
  {
   "cell_type": "code",
   "execution_count": 24,
   "metadata": {},
   "outputs": [
    {
     "name": "stdout",
     "output_type": "stream",
     "text": [
      "CPU times: user 26 μs, sys: 0 ns, total: 26 μs\n",
      "Wall time: 28.8 μs\n"
     ]
    },
    {
     "data": {
      "text/plain": [
       "(62910, 23898, 86808)"
      ]
     },
     "execution_count": 24,
     "metadata": {},
     "output_type": "execute_result"
    }
   ],
   "source": [
    "%%time\n",
    "\n",
    "casual_implementation_2(d, test_array.tolist())"
   ]
  },
  {
   "cell_type": "code",
   "execution_count": 30,
   "metadata": {},
   "outputs": [
    {
     "name": "stdout",
     "output_type": "stream",
     "text": [
      "237 ms ± 8.02 ms per loop (mean ± std. dev. of 10 runs, 1 loop each)\n"
     ]
    }
   ],
   "source": [
    "%%timeit -n 1 -r 10\n",
    "\n",
    "casual_implementation_2(d)"
   ]
  }
 ],
 "metadata": {
  "kernelspec": {
   "display_name": ".venv",
   "language": "python",
   "name": "python3"
  },
  "language_info": {
   "codemirror_mode": {
    "name": "ipython",
    "version": 3
   },
   "file_extension": ".py",
   "mimetype": "text/x-python",
   "name": "python",
   "nbconvert_exporter": "python",
   "pygments_lexer": "ipython3",
   "version": "3.12.8"
  }
 },
 "nbformat": 4,
 "nbformat_minor": 2
}
